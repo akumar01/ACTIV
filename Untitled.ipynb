{
 "cells": [
  {
   "cell_type": "code",
   "execution_count": 2,
   "metadata": {},
   "outputs": [],
   "source": [
    "import matplotlib.pyplot as plt\n",
    "import h5py"
   ]
  },
  {
   "cell_type": "code",
   "execution_count": 3,
   "metadata": {},
   "outputs": [],
   "source": [
    "f = h5py.File('RM1_p45_day4_trial_1_PAINT.mat', 'r')"
   ]
  },
  {
   "cell_type": "code",
   "execution_count": 8,
   "metadata": {},
   "outputs": [
    {
     "data": {
      "text/plain": [
       "KeysView(<HDF5 file \"RM1_p45_day4_trial_1_PAINT.mat\" (mode r+)>)"
      ]
     },
     "execution_count": 8,
     "metadata": {},
     "output_type": "execute_result"
    }
   ],
   "source": [
    "f.keys()"
   ]
  },
  {
   "cell_type": "code",
   "execution_count": 9,
   "metadata": {},
   "outputs": [
    {
     "data": {
      "text/plain": [
       "['#refs#', 'cfg_PAINT_cond']"
      ]
     },
     "execution_count": 9,
     "metadata": {},
     "output_type": "execute_result"
    }
   ],
   "source": [
    "list(f.keys())"
   ]
  },
  {
   "cell_type": "code",
   "execution_count": 4,
   "metadata": {},
   "outputs": [
    {
     "ename": "AttributeError",
     "evalue": "'slice' object has no attribute 'encode'",
     "output_type": "error",
     "traceback": [
      "\u001b[1;31m---------------------------------------------------------------------------\u001b[0m",
      "\u001b[1;31mAttributeError\u001b[0m                            Traceback (most recent call last)",
      "\u001b[1;32m<ipython-input-4-d59a59adf41d>\u001b[0m in \u001b[0;36m<module>\u001b[1;34m\u001b[0m\n\u001b[1;32m----> 1\u001b[1;33m \u001b[0mcfg\u001b[0m \u001b[1;33m=\u001b[0m \u001b[0mf\u001b[0m\u001b[1;33m[\u001b[0m\u001b[1;34m'cfg_PAINT_cond'\u001b[0m\u001b[1;33m]\u001b[0m\u001b[1;33m[\u001b[0m\u001b[1;33m:\u001b[0m\u001b[1;33m]\u001b[0m\u001b[1;33m\u001b[0m\u001b[0m\n\u001b[0m",
      "\u001b[1;32mh5py\\_objects.pyx\u001b[0m in \u001b[0;36mh5py._objects.with_phil.wrapper\u001b[1;34m()\u001b[0m\n",
      "\u001b[1;32mh5py\\_objects.pyx\u001b[0m in \u001b[0;36mh5py._objects.with_phil.wrapper\u001b[1;34m()\u001b[0m\n",
      "\u001b[1;32m~\\Miniconda3\\envs\\nse\\lib\\site-packages\\h5py\\_hl\\group.py\u001b[0m in \u001b[0;36m__getitem__\u001b[1;34m(self, name)\u001b[0m\n\u001b[0;32m    175\u001b[0m                 \u001b[1;32mraise\u001b[0m \u001b[0mValueError\u001b[0m\u001b[1;33m(\u001b[0m\u001b[1;34m\"Invalid HDF5 object reference\"\u001b[0m\u001b[1;33m)\u001b[0m\u001b[1;33m\u001b[0m\u001b[0m\n\u001b[0;32m    176\u001b[0m         \u001b[1;32melse\u001b[0m\u001b[1;33m:\u001b[0m\u001b[1;33m\u001b[0m\u001b[0m\n\u001b[1;32m--> 177\u001b[1;33m             \u001b[0moid\u001b[0m \u001b[1;33m=\u001b[0m \u001b[0mh5o\u001b[0m\u001b[1;33m.\u001b[0m\u001b[0mopen\u001b[0m\u001b[1;33m(\u001b[0m\u001b[0mself\u001b[0m\u001b[1;33m.\u001b[0m\u001b[0mid\u001b[0m\u001b[1;33m,\u001b[0m \u001b[0mself\u001b[0m\u001b[1;33m.\u001b[0m\u001b[0m_e\u001b[0m\u001b[1;33m(\u001b[0m\u001b[0mname\u001b[0m\u001b[1;33m)\u001b[0m\u001b[1;33m,\u001b[0m \u001b[0mlapl\u001b[0m\u001b[1;33m=\u001b[0m\u001b[0mself\u001b[0m\u001b[1;33m.\u001b[0m\u001b[0m_lapl\u001b[0m\u001b[1;33m)\u001b[0m\u001b[1;33m\u001b[0m\u001b[0m\n\u001b[0m\u001b[0;32m    178\u001b[0m \u001b[1;33m\u001b[0m\u001b[0m\n\u001b[0;32m    179\u001b[0m         \u001b[0motype\u001b[0m \u001b[1;33m=\u001b[0m \u001b[0mh5i\u001b[0m\u001b[1;33m.\u001b[0m\u001b[0mget_type\u001b[0m\u001b[1;33m(\u001b[0m\u001b[0moid\u001b[0m\u001b[1;33m)\u001b[0m\u001b[1;33m\u001b[0m\u001b[0m\n",
      "\u001b[1;32m~\\Miniconda3\\envs\\nse\\lib\\site-packages\\h5py\\_hl\\base.py\u001b[0m in \u001b[0;36m_e\u001b[1;34m(self, name, lcpl)\u001b[0m\n\u001b[0;32m    130\u001b[0m         \u001b[1;32melse\u001b[0m\u001b[1;33m:\u001b[0m\u001b[1;33m\u001b[0m\u001b[0m\n\u001b[0;32m    131\u001b[0m             \u001b[1;32mtry\u001b[0m\u001b[1;33m:\u001b[0m\u001b[1;33m\u001b[0m\u001b[0m\n\u001b[1;32m--> 132\u001b[1;33m                 \u001b[0mname\u001b[0m \u001b[1;33m=\u001b[0m \u001b[0mname\u001b[0m\u001b[1;33m.\u001b[0m\u001b[0mencode\u001b[0m\u001b[1;33m(\u001b[0m\u001b[1;34m'ascii'\u001b[0m\u001b[1;33m)\u001b[0m\u001b[1;33m\u001b[0m\u001b[0m\n\u001b[0m\u001b[0;32m    133\u001b[0m                 \u001b[0mcoding\u001b[0m \u001b[1;33m=\u001b[0m \u001b[0mh5t\u001b[0m\u001b[1;33m.\u001b[0m\u001b[0mCSET_ASCII\u001b[0m\u001b[1;33m\u001b[0m\u001b[0m\n\u001b[0;32m    134\u001b[0m             \u001b[1;32mexcept\u001b[0m \u001b[0mUnicodeEncodeError\u001b[0m\u001b[1;33m:\u001b[0m\u001b[1;33m\u001b[0m\u001b[0m\n",
      "\u001b[1;31mAttributeError\u001b[0m: 'slice' object has no attribute 'encode'"
     ]
    }
   ],
   "source": [
    "cfg = f['cfg_PAINT_cond'][:]"
   ]
  },
  {
   "cell_type": "code",
   "execution_count": 11,
   "metadata": {},
   "outputs": [
    {
     "data": {
      "text/plain": [
       "['ChanERSP',\n",
       " 'ChanTEP',\n",
       " 'ERSPfreq',\n",
       " 'ERSPtime',\n",
       " 'ROIERSP',\n",
       " 'ROITEP',\n",
       " 'ROInum',\n",
       " 'SourceERSP',\n",
       " 'SourceTEP',\n",
       " 'TEPtime',\n",
       " 'chanlocs',\n",
       " 'channum',\n",
       " 'condition',\n",
       " 'sourcenum',\n",
       " 'subid',\n",
       " 'subnum']"
      ]
     },
     "execution_count": 11,
     "metadata": {},
     "output_type": "execute_result"
    }
   ],
   "source": [
    "list(f['cfg_PAINT_cond'].keys())"
   ]
  },
  {
   "cell_type": "code",
   "execution_count": 5,
   "metadata": {},
   "outputs": [],
   "source": [
    "x = f['cfg_PAINT_cond']['ChanTEP'][:]"
   ]
  },
  {
   "cell_type": "code",
   "execution_count": 11,
   "metadata": {},
   "outputs": [],
   "source": [
    "ref = x[0][0]"
   ]
  },
  {
   "cell_type": "code",
   "execution_count": 18,
   "metadata": {},
   "outputs": [
    {
     "data": {
      "text/plain": [
       "(2, 1)"
      ]
     },
     "execution_count": 18,
     "metadata": {},
     "output_type": "execute_result"
    }
   ],
   "source": [
    "x.shape"
   ]
  },
  {
   "cell_type": "code",
   "execution_count": 12,
   "metadata": {},
   "outputs": [
    {
     "data": {
      "text/plain": [
       "<HDF5 object reference>"
      ]
     },
     "execution_count": 12,
     "metadata": {},
     "output_type": "execute_result"
    }
   ],
   "source": [
    "ref"
   ]
  },
  {
   "cell_type": "code",
   "execution_count": 13,
   "metadata": {},
   "outputs": [],
   "source": [
    "data = f[ref][:]"
   ]
  },
  {
   "cell_type": "code",
   "execution_count": 14,
   "metadata": {},
   "outputs": [
    {
     "data": {
      "text/plain": [
       "(2500, 95)"
      ]
     },
     "execution_count": 14,
     "metadata": {},
     "output_type": "execute_result"
    }
   ],
   "source": [
    "data.s"
   ]
  },
  {
   "cell_type": "code",
   "execution_count": 17,
   "metadata": {},
   "outputs": [
    {
     "data": {
      "text/plain": [
       "[<matplotlib.lines.Line2D at 0x1cf62a85470>,\n",
       " <matplotlib.lines.Line2D at 0x1cf62a85630>,\n",
       " <matplotlib.lines.Line2D at 0x1cf62a85780>,\n",
       " <matplotlib.lines.Line2D at 0x1cf62a858d0>,\n",
       " <matplotlib.lines.Line2D at 0x1cf62a85a20>,\n",
       " <matplotlib.lines.Line2D at 0x1cf62a85b70>,\n",
       " <matplotlib.lines.Line2D at 0x1cf62a85cc0>,\n",
       " <matplotlib.lines.Line2D at 0x1cf62a85e10>,\n",
       " <matplotlib.lines.Line2D at 0x1cf62a85f60>,\n",
       " <matplotlib.lines.Line2D at 0x1cf62a8c0f0>,\n",
       " <matplotlib.lines.Line2D at 0x1cf62a41f98>,\n",
       " <matplotlib.lines.Line2D at 0x1cf62a8c358>,\n",
       " <matplotlib.lines.Line2D at 0x1cf62a8c4a8>,\n",
       " <matplotlib.lines.Line2D at 0x1cf62a8c5f8>,\n",
       " <matplotlib.lines.Line2D at 0x1cf62a8c748>,\n",
       " <matplotlib.lines.Line2D at 0x1cf62a8c898>,\n",
       " <matplotlib.lines.Line2D at 0x1cf62a8c9e8>,\n",
       " <matplotlib.lines.Line2D at 0x1cf62a8cb38>,\n",
       " <matplotlib.lines.Line2D at 0x1cf62a8cc88>,\n",
       " <matplotlib.lines.Line2D at 0x1cf62a8cdd8>,\n",
       " <matplotlib.lines.Line2D at 0x1cf62a8cf28>,\n",
       " <matplotlib.lines.Line2D at 0x1cf62a900b8>,\n",
       " <matplotlib.lines.Line2D at 0x1cf62a90208>,\n",
       " <matplotlib.lines.Line2D at 0x1cf62a90358>,\n",
       " <matplotlib.lines.Line2D at 0x1cf62a904a8>,\n",
       " <matplotlib.lines.Line2D at 0x1cf62a905f8>,\n",
       " <matplotlib.lines.Line2D at 0x1cf62a90748>,\n",
       " <matplotlib.lines.Line2D at 0x1cf62a90898>,\n",
       " <matplotlib.lines.Line2D at 0x1cf62a909e8>,\n",
       " <matplotlib.lines.Line2D at 0x1cf62a90b38>,\n",
       " <matplotlib.lines.Line2D at 0x1cf62a90c88>,\n",
       " <matplotlib.lines.Line2D at 0x1cf62a90dd8>,\n",
       " <matplotlib.lines.Line2D at 0x1cf62a90f28>,\n",
       " <matplotlib.lines.Line2D at 0x1cf62a960b8>,\n",
       " <matplotlib.lines.Line2D at 0x1cf62a96208>,\n",
       " <matplotlib.lines.Line2D at 0x1cf62a96358>,\n",
       " <matplotlib.lines.Line2D at 0x1cf62a964a8>,\n",
       " <matplotlib.lines.Line2D at 0x1cf62a965f8>,\n",
       " <matplotlib.lines.Line2D at 0x1cf62a96748>,\n",
       " <matplotlib.lines.Line2D at 0x1cf62a96898>,\n",
       " <matplotlib.lines.Line2D at 0x1cf62a969e8>,\n",
       " <matplotlib.lines.Line2D at 0x1cf62a96b38>,\n",
       " <matplotlib.lines.Line2D at 0x1cf62a96c88>,\n",
       " <matplotlib.lines.Line2D at 0x1cf62a96dd8>,\n",
       " <matplotlib.lines.Line2D at 0x1cf62a96f28>,\n",
       " <matplotlib.lines.Line2D at 0x1cf62a9b0b8>,\n",
       " <matplotlib.lines.Line2D at 0x1cf62a9b208>,\n",
       " <matplotlib.lines.Line2D at 0x1cf62a9b358>,\n",
       " <matplotlib.lines.Line2D at 0x1cf62a9b4a8>,\n",
       " <matplotlib.lines.Line2D at 0x1cf62a9b5f8>,\n",
       " <matplotlib.lines.Line2D at 0x1cf62a9b748>,\n",
       " <matplotlib.lines.Line2D at 0x1cf62a9b898>,\n",
       " <matplotlib.lines.Line2D at 0x1cf62a9b9e8>,\n",
       " <matplotlib.lines.Line2D at 0x1cf62a9bb38>,\n",
       " <matplotlib.lines.Line2D at 0x1cf62a9bc88>,\n",
       " <matplotlib.lines.Line2D at 0x1cf62a9bdd8>,\n",
       " <matplotlib.lines.Line2D at 0x1cf62a9bf28>,\n",
       " <matplotlib.lines.Line2D at 0x1cf62a9f0b8>,\n",
       " <matplotlib.lines.Line2D at 0x1cf62a9f208>,\n",
       " <matplotlib.lines.Line2D at 0x1cf62a9f358>,\n",
       " <matplotlib.lines.Line2D at 0x1cf62a9f4a8>,\n",
       " <matplotlib.lines.Line2D at 0x1cf62a9f5f8>,\n",
       " <matplotlib.lines.Line2D at 0x1cf62a9f748>,\n",
       " <matplotlib.lines.Line2D at 0x1cf62a9f898>,\n",
       " <matplotlib.lines.Line2D at 0x1cf62a9f9e8>,\n",
       " <matplotlib.lines.Line2D at 0x1cf62a9fb38>,\n",
       " <matplotlib.lines.Line2D at 0x1cf62a9fc88>,\n",
       " <matplotlib.lines.Line2D at 0x1cf62a9fdd8>,\n",
       " <matplotlib.lines.Line2D at 0x1cf62a9ff28>,\n",
       " <matplotlib.lines.Line2D at 0x1cf62aa50b8>,\n",
       " <matplotlib.lines.Line2D at 0x1cf62aa5208>,\n",
       " <matplotlib.lines.Line2D at 0x1cf62aa5358>,\n",
       " <matplotlib.lines.Line2D at 0x1cf62aa54a8>,\n",
       " <matplotlib.lines.Line2D at 0x1cf62aa55f8>,\n",
       " <matplotlib.lines.Line2D at 0x1cf62aa5748>,\n",
       " <matplotlib.lines.Line2D at 0x1cf62aa5898>,\n",
       " <matplotlib.lines.Line2D at 0x1cf62aa59e8>,\n",
       " <matplotlib.lines.Line2D at 0x1cf62aa5b38>,\n",
       " <matplotlib.lines.Line2D at 0x1cf62aa5c88>,\n",
       " <matplotlib.lines.Line2D at 0x1cf62aa5dd8>,\n",
       " <matplotlib.lines.Line2D at 0x1cf62aa5f28>,\n",
       " <matplotlib.lines.Line2D at 0x1cf62aaa0b8>,\n",
       " <matplotlib.lines.Line2D at 0x1cf62aaa208>,\n",
       " <matplotlib.lines.Line2D at 0x1cf62aaa358>,\n",
       " <matplotlib.lines.Line2D at 0x1cf62aaa4a8>,\n",
       " <matplotlib.lines.Line2D at 0x1cf62aaa5f8>,\n",
       " <matplotlib.lines.Line2D at 0x1cf62aaa748>,\n",
       " <matplotlib.lines.Line2D at 0x1cf62aaa898>,\n",
       " <matplotlib.lines.Line2D at 0x1cf62aaa9e8>,\n",
       " <matplotlib.lines.Line2D at 0x1cf62aaab38>,\n",
       " <matplotlib.lines.Line2D at 0x1cf62aaac88>,\n",
       " <matplotlib.lines.Line2D at 0x1cf62aaadd8>,\n",
       " <matplotlib.lines.Line2D at 0x1cf62aaaf28>,\n",
       " <matplotlib.lines.Line2D at 0x1cf62aaf0b8>,\n",
       " <matplotlib.lines.Line2D at 0x1cf62aaf208>]"
      ]
     },
     "execution_count": 17,
     "metadata": {},
     "output_type": "execute_result"
    },
    {
     "data": {
      "image/png": "[encoded data removed]",
      "text/plain": [
       "<Figure size 432x288 with 1 Axes>"
      ]
     },
     "metadata": {
      "needs_background": "light"
     },
     "output_type": "display_data"
    }
   ],
   "source": [
    "plt.plot(data)"
   ]
  },
  {
   "cell_type": "code",
   "execution_count": null,
   "metadata": {},
   "outputs": [],
   "source": []
  }
 ],
 "metadata": {
  "kernelspec": {
   "display_name": "Python 3",
   "language": "python",
   "name": "python3"
  },
  "language_info": {
   "codemirror_mode": {
    "name": "ipython",
    "version": 3
   },
   "file_extension": ".py",
   "mimetype": "text/x-python",
   "name": "python",
   "nbconvert_exporter": "python",
   "pygments_lexer": "ipython3",
   "version": "3.6.6"
  }
 },
 "nbformat": 4,
 "nbformat_minor": 2
}
